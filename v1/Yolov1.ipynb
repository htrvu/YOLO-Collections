{
  "cells": [
    {
      "cell_type": "markdown",
      "metadata": {
        "id": "B5bfvmzDKemE"
      },
      "source": [
        "# Cài đặt mô hình YOLOv1\n",
        "\n",
        "Paper gốc: https://arxiv.org/pdf/1506.02640.pdf\n",
        "\n",
        "Tham thảo: https://github.com/pbcquoc/yolo, https://www.maskaravivek.com/post/yolov1/\n",
        "\n",
        "Tập dữ liệu: https://drive.google.com/file/d/12sZLOe5VDvAqGHcjJh7mVmjB6HPeIEJh/view\n",
        "\n",
        "Tập dữ liệu ta sử dụng bao gồm 25.000 ảnh với kích thước 224 x 224, cùng 1 file json chứa tọa độ của các bounding box, class của mỗi ảnh.\n",
        "\n",
        "Có tất cả 3 class là circle (0), triangle (1), rectangle(2). Do đó, khi sử dụng lưới 7 x 7 cùng 2 box cho mỗi ô, shape của output tensor là 7 x 7 x 13 (trong paper gốc là 7 x 7 x 30)"
      ]
    },
    {
      "cell_type": "markdown",
      "metadata": {
        "id": "ZQnuZQ50MriL"
      },
      "source": [
        "## Import các thư viện"
      ]
    },
    {
      "cell_type": "code",
      "execution_count": 2,
      "metadata": {
        "id": "TECi48ZeLkvb"
      },
      "outputs": [],
      "source": [
        "import tensorflow as tf\n",
        "from sklearn.model_selection import train_test_split\n",
        "import json\n",
        "import numpy as np\n",
        "import cv2\n",
        "import matplotlib.pyplot as plt\n",
        "import time"
      ]
    },
    {
      "cell_type": "markdown",
      "metadata": {
        "id": "QCg8IVmrQpuL"
      },
      "source": [
        "## Định nghĩa các hằng số cho mô hình"
      ]
    },
    {
      "cell_type": "code",
      "execution_count": 4,
      "metadata": {
        "id": "Z1oT8fyYQsNj"
      },
      "outputs": [],
      "source": [
        "# Kích thước grid system \n",
        "CELL_SIZE = 7 \n",
        "# Số boundary box cần dự đoán mỗi ô vuông\n",
        "BOX_PER_CELL = 2\n",
        "\n",
        "# Kích thước ảnh đầu vào\n",
        "IMG_SIZE = 224\n",
        "\n",
        "# Số lớp\n",
        "classes = {'circle':0, 'triangle':1,  'rectangle':2}\n",
        "n_class = len(classes)"
      ]
    },
    {
      "cell_type": "markdown",
      "metadata": {
        "id": "OumD55JeLSZb"
      },
      "source": [
        "## Load dữ liệu\n"
      ]
    },
    {
      "cell_type": "markdown",
      "metadata": {
        "id": "Gcn-37eUNB-0"
      },
      "source": [
        "Visualize thử một vài bức ảnh:"
      ]
    },
    {
      "cell_type": "code",
      "execution_count": 5,
      "metadata": {
        "id": "DVrjANZrOtdj"
      },
      "outputs": [],
      "source": [
        "import os"
      ]
    },
    {
      "cell_type": "code",
      "execution_count": 6,
      "metadata": {
        "colab": {
          "base_uri": "https://localhost:8080/",
          "height": 269
        },
        "id": "WvSdFKw7NHzj",
        "outputId": "b262fd28-3c4d-470a-dd1f-b12a4e8996d0"
      },
      "outputs": [
        {
          "data": {
            "image/png": "[encoded data removed]",
            "text/plain": [
              "<Figure size 640x480 with 1 Axes>"
            ]
          },
          "metadata": {},
          "output_type": "display_data"
        }
      ],
      "source": [
        "demo_img = plt.imread('train/' + os.listdir('train')[0])\n",
        "plt.imshow(demo_img)\n",
        "plt.show()"
      ]
    },
    {
      "cell_type": "markdown",
      "metadata": {
        "id": "TfzBQGoRN1-a"
      },
      "source": [
        "Tọa độ của bounding box đang lưu trong file json là $(x_1, y_1)$ và $(x_2, y_2)$ (top-left và bottom right), với (0, 0) là vị trí top-left của ảnh. Ta cần chuyển nó về dạng $(x_{center}, y_{center}, w, h)$\n",
        "\n",
        "Ta sẽ load dữ liệu vào 2 tensor $X$ và $y$, trong đó:\n",
        "- $X[i]$ là đường dẫn của ảnh thứ $i$\n",
        "- $y[i]$ có shape là (7, 7, 8), trong đó chiều cuối cùng lưu $(1, x_{center}, y_{center}, w, h, classes)$\n",
        "\n",
        "**Lưu ý:**\n",
        "- Hiện tại, các tọa độ của ta đang trong miền giá trị [0, 224]. Trong các bước sau, để mô hình có thể hoạt động tốt, ta sẽ **chuẩn hóa** chúng về miền [0,1] (bằng cách chia cho 224).\n",
        "- Cũng trong các thao tác sau, tọa độ của tâm $(x_{center}, y_{center})$ sẽ được chuẩn hóa về giá trị có ý nghĩa là ***độ dời*** của tâm so với ***ô lưới chứa nó***"
      ]
    },
    {
      "cell_type": "code",
      "execution_count": 13,
      "metadata": {},
      "outputs": [],
      "source": [
        "def load_data():\n",
        "  labels = json.load(open('train/labels.json'))\n",
        "  n_img = len(labels)\n",
        "\n",
        "  # Tensor X và y\n",
        "  X = []\n",
        "  y = np.zeros((n_img, CELL_SIZE, CELL_SIZE, 5 + n_class))\n",
        "\n",
        "  for idx, label in enumerate(labels):\n",
        "    # img = cv2.imread(f'train/{idx}.png')\n",
        "    # X[idx] = img\n",
        "    X.append(f'train/{idx}.png')\n",
        "    for box in label['boxes']:\n",
        "      # Vector one-hot cho class của obj trong box\n",
        "      one_hot = [0] * n_class\n",
        "      one_hot[classes[box['class']]] = 1\n",
        "      # Tọa độ tâm và w,h của các boundary box\n",
        "      x1, y1 = box['x1'], box['y1']\n",
        "      x2, y2 = box['x2'], box['y2']\n",
        "      x_center, y_center = (x1 + x2) / 2.0, (y1 + y2) /2.0\n",
        "      w, h = x2 - x1, y2 - y1\n",
        "      # Xác định vị trí của box trong lưới 7 x 7 (hàng j, cột i)\n",
        "      i = int(x_center / IMG_SIZE * CELL_SIZE)\n",
        "      j = int(y_center / IMG_SIZE * CELL_SIZE)\n",
        "      # Gán vào tensor y\n",
        "      y[idx, j, i] = 1, x_center, y_center, w, h, *one_hot\n",
        "  \n",
        "  return np.array(X), y"
      ]
    },
    {
      "cell_type": "code",
      "execution_count": 14,
      "metadata": {},
      "outputs": [],
      "source": [
        "images, labels = load_data()"
      ]
    },
    {
      "cell_type": "markdown",
      "metadata": {
        "id": "ggTMOZ-oUKiz"
      },
      "source": [
        "## Chia tập dữ liệu thành train và validation\n",
        "\n",
        "Với mục đích minh họa, ta sẽ chỉ sử dụng các tập train và validation"
      ]
    },
    {
      "cell_type": "code",
      "execution_count": 15,
      "metadata": {},
      "outputs": [],
      "source": [
        "img_train, img_test, lb_train, lb_test = train_test_split(images, labels, test_size=0.2, random_state=666)"
      ]
    },
    {
      "cell_type": "code",
      "execution_count": 16,
      "metadata": {},
      "outputs": [],
      "source": [
        "# Giải phóng bộ nhớ\n",
        "images = None\n",
        "labels = None"
      ]
    },
    {
      "cell_type": "markdown",
      "metadata": {},
      "source": [
        "## Lớp MyGenerator"
      ]
    },
    {
      "cell_type": "markdown",
      "metadata": {},
      "source": [
        "Ta cần đến lớp này để dùng cho việc huấn luyện mô hình (fetch data theo từng batch)"
      ]
    },
    {
      "cell_type": "code",
      "execution_count": 10,
      "metadata": {},
      "outputs": [],
      "source": [
        "def read_img(img_path):\n",
        "    img = cv2.imread(img_path)\n",
        "    img = cv2.cvtColor(img, cv2.COLOR_BGR2RGB)\n",
        "    img = img / 255.0\n",
        "    return img"
      ]
    },
    {
      "cell_type": "markdown",
      "metadata": {},
      "source": [
        "***Lưu ý:*** Vì số lượng ảnh nhiều và RAM có hạn nên ta sẽ đọc ảnh trong mỗi lần fetch"
      ]
    },
    {
      "cell_type": "code",
      "execution_count": 17,
      "metadata": {},
      "outputs": [],
      "source": [
        "class MyGenerator(tf.keras.utils.Sequence):\n",
        "    def __init__(self, images, labels, batch_size):\n",
        "        self.images = images\n",
        "        self.labels = labels\n",
        "        self.batch_size = batch_size\n",
        "\n",
        "    def __len__(self):\n",
        "        return (np.ceil(len(self.images) / float(self.batch_size))).astype(np.int)\n",
        "\n",
        "    def __getitem__(self, idx):\n",
        "        batch_x = self.images[idx * self.batch_size: (idx+1) * self.batch_size]\n",
        "        batch_y = self.labels[idx * self.batch_size: (idx+1) * self.batch_size]\n",
        "\n",
        "        train_image = []\n",
        "        train_label = []\n",
        "\n",
        "        for i in range(0, len(batch_x)):\n",
        "            img_path = batch_x[i]\n",
        "            label = batch_y[i].astype(np.float32)\n",
        "            image = read_img(img_path)\n",
        "            train_image.append(image)\n",
        "            train_label.append(label)\n",
        "        return np.array(train_image), np.array(train_label)\n"
      ]
    },
    {
      "cell_type": "code",
      "execution_count": 18,
      "metadata": {},
      "outputs": [],
      "source": [
        "batch_size = 32\n",
        "\n",
        "train_gen = MyGenerator(img_train, lb_train, batch_size)\n",
        "val_gen = MyGenerator(img_test, lb_test, batch_size)\n"
      ]
    },
    {
      "cell_type": "markdown",
      "metadata": {},
      "source": [
        "Thử kiểm tra xem MyGenerator có hoạt động đúng không:"
      ]
    },
    {
      "cell_type": "code",
      "execution_count": 19,
      "metadata": {},
      "outputs": [
        {
          "name": "stdout",
          "output_type": "stream",
          "text": [
            "(32, 224, 224, 3)\n",
            "(32, 7, 7, 8)\n",
            "(32, 224, 224, 3)\n",
            "(32, 7, 7, 8)\n"
          ]
        }
      ],
      "source": [
        "x_train, y_train = train_gen.__getitem__(0)\n",
        "x_val, y_val = val_gen.__getitem__(0)\n",
        "print(x_train.shape)\n",
        "print(y_train.shape)\n",
        "\n",
        "print(x_val.shape)\n",
        "print(y_val.shape)"
      ]
    },
    {
      "cell_type": "markdown",
      "metadata": {
        "id": "AVWXISXIUz6C"
      },
      "source": [
        "## Định nghĩa mô hình CNN\n",
        "\n",
        "Kiến trúc của mô hình CNN trong Yolov1 tương tự như mạng VGG16, lưu ý rằng toàn bộ activation function đều là hàm tuyến tính. Với tập dữ liệu ta đang dùng, output của mô hình này cần có shape là 7 x 7 x 13.\n",
        "\n",
        "Ngoài ra, thay vì dùng tầng Dense ở các tầng cuối cùng của mô hình như VGG16, ta thay thế bằng tầng Conv2D với kernel size là 1 x 1.\n",
        "\n",
        "Kiến trúc của mô hình cơ bản như sau:"
      ]
    },
    {
      "cell_type": "code",
      "execution_count": 29,
      "metadata": {
        "id": "0nypgXjjXfFT"
      },
      "outputs": [],
      "source": [
        "from tensorflow.keras.layers import Conv2D, MaxPooling2D\n",
        "\n",
        "class ModelCNN(tf.keras.Model):\n",
        "  def __init__(self, img_size):\n",
        "    super(ModelCNN, self).__init__()\n",
        "    self.shape = (img_size, img_size, 3)\n",
        "\n",
        "    self.conv1 = Conv2D(filters=16, kernel_size=3, padding='same', activation='relu', input_shape=self.shape)\n",
        "    self.conv2 = Conv2D(filters=16, kernel_size=3, padding='same', activation='relu')\n",
        "    self.maxpool1 = MaxPooling2D(pool_size=2)\n",
        "\n",
        "    self.conv3 = Conv2D(filters=32, kernel_size=3, padding='same', activation='relu')\n",
        "    self.conv4 = Conv2D(filters=32, kernel_size=3, padding='same', activation='relu')\n",
        "    self.maxpool2 = MaxPooling2D(pool_size=2)\n",
        "\n",
        "    self.conv5 = Conv2D(filters=64, kernel_size=3, padding='same', activation='relu')\n",
        "    self.conv6 = Conv2D(filters=64, kernel_size=3, padding='same', activation='relu')\n",
        "    self.maxpool3 = MaxPooling2D(pool_size=2)\n",
        "\n",
        "    self.conv7 = Conv2D(filters=128, kernel_size=3, padding='same', activation='relu')\n",
        "    self.conv8 = Conv2D(filters=128, kernel_size=3, padding='same', activation='relu')\n",
        "    self.maxpool4 = MaxPooling2D(pool_size=2)\n",
        "\n",
        "    self.conv9 = Conv2D(filters=256, kernel_size=3, padding='same', activation='relu')\n",
        "    self.conv10 = Conv2D(filters=256, kernel_size=3, padding='same', activation='relu')\n",
        "    self.maxpool5 = MaxPooling2D(pool_size=2)\n",
        "\n",
        "    self.conv11 = Conv2D(filters=512, kernel_size=1, padding='same', activation='relu')\n",
        "\n",
        "    self.conv12 = Conv2D(filters=13, kernel_size=1, padding='same', activation='relu')\n",
        "\n",
        "  def call(self, input):\n",
        "    x = self.conv1(input)\n",
        "    x = self.conv2(x)\n",
        "    x = self.maxpool1(x)\n",
        "\n",
        "    x = self.conv3(x)\n",
        "    x = self.conv4(x)\n",
        "    x = self.maxpool2(x) \n",
        "\n",
        "    x = self.conv5(x)\n",
        "    x = self.conv6(x)\n",
        "    x = self.maxpool3(x) \n",
        "\n",
        "    x = self.conv7(x)\n",
        "    x = self.conv8(x)\n",
        "    x = self.maxpool4(x) \n",
        "\n",
        "    x = self.conv9(x)\n",
        "    x = self.conv10(x)\n",
        "    x = self.maxpool5(x) \n",
        "\n",
        "    x = self.conv11(x)\n",
        "\n",
        "    x = self.conv12(x) \n",
        "\n",
        "    return x"
      ]
    },
    {
      "cell_type": "markdown",
      "metadata": {
        "id": "1zAc3osAZN6w"
      },
      "source": [
        "## Hàm tính IOU\n",
        "\n",
        "Khi tính IOU, sử dụng các điểm top-left và bottom-right sẽ dễ dàng hơn so với tọa độ tâm cùng width, height. Do đó, từ dữ liệu thì ta sẽ suy ngược ra lại 2 điểm đó."
      ]
    },
    {
      "cell_type": "code",
      "execution_count": 22,
      "metadata": {
        "id": "l_eBjrE0ZJ95"
      },
      "outputs": [],
      "source": [
        "def compute_iou(boxes1, boxes2):\n",
        "    \"\"\"\n",
        "    Args:\n",
        "      boxes1: [BATCH_SIZE, 7, 7, 2, 4]\n",
        "      boxes2: [BATCH_SIZE, 7, 7, 2, 4]\n",
        "      , where 4 ===> (x_center, y_center, w, h)\n",
        "    Return:\n",
        "      iou: [BATCH_SIZE, CELL_SIZE, CELL_SIZE, BOX_PER_CELL]\n",
        "    \"\"\"\n",
        "    # Chuyển (x_center, y_center, w, h) thành (x1, y1, x2, y2)\n",
        "    boxes1_t = tf.stack([boxes1[..., 0] - boxes1[..., 2] / 2.0,\n",
        "                          boxes1[..., 1] - boxes1[..., 3] / 2.0,\n",
        "                          boxes1[..., 0] + boxes1[..., 2] / 2.0,\n",
        "                          boxes1[..., 1] + boxes1[..., 3] / 2.0],\n",
        "                        axis=-1)\n",
        "\n",
        "    boxes2_t = tf.stack([boxes2[..., 0] - boxes2[..., 2] / 2.0,\n",
        "                          boxes2[..., 1] - boxes2[..., 3] / 2.0,\n",
        "                          boxes2[..., 0] + boxes2[..., 2] / 2.0,\n",
        "                          boxes2[..., 1] + boxes2[..., 3] / 2.0],\n",
        "                        axis=-1)\n",
        "\n",
        "    # Tính tọa độ top-left và bottom-right\n",
        "    top_left = tf.maximum(boxes1_t[..., :2], boxes2_t[..., :2])\n",
        "    bottom_right = tf.minimum(boxes1_t[..., 2:], boxes2_t[..., 2:])\n",
        "\n",
        "    # intersection\n",
        "    intersection = tf.maximum(0.0, bottom_right - top_left)\n",
        "    inter_square = intersection[..., 0] * intersection[..., 1]\n",
        "\n",
        "    # Diện tích của boxes1 và boxes2\n",
        "    square1 = boxes1[..., 2] * boxes1[..., 3]\n",
        "    square2 = boxes2[..., 2] * boxes2[..., 3]\n",
        "\n",
        "    # union\n",
        "    union_square = tf.maximum(square1 + square2 - inter_square, 1e-10)\n",
        "\n",
        "    # Thực hiện \"clip\" (giá trị nhỏ hơn 0 sẽ thành 0, lớn hơn 1 sẽ thành 1)\n",
        "    return tf.clip_by_value(inter_square / union_square, 0.0, 1.0)    "
      ]
    },
    {
      "cell_type": "markdown",
      "metadata": {
        "id": "yfwVfAnzqMcZ"
      },
      "source": [
        "## Hàm lỗi\n",
        "\n",
        "Ta quan tâm đến 3 giá trị lỗi sau:\n",
        "- **Confidence loss:** Giá trị này liên quan đến việc dự đoán 1 boundary box có chứa object hay không. Nó được tính trên cả những ô chứa object và không chứa object của lưới.\n",
        "$$L_{confidence} = \\sum_{i=0}^{S^2} \\sum_{j=0}^{B} \\mathbb{I}_{ij}^{obj} (C_i - \\hat{C_i})^2 + \\lambda_{noobj} \\sum_{i=0}^{S^2} \\sum_{j=0}^{B} \\mathbb{I}_{ij}^{noobj} (C_i - \\hat{C_i})^2 $$\n",
        "Trong công thức trên:\n",
        "  - $S$ là CELL_SIZE (7)\n",
        "  - $B$ là BOX_PER_CELL (2)\n",
        "  - $\\mathbb{I}_{ij}^{obj}$ chỉ những boundary box thứ $j$ tại ô lưới $i$ mà được dự đoán là có chứa object và nhãn của nó là đúng như vậy. Tương tự với $\\mathbb{I}_{ij}^{noobj}$.\n",
        "  - $C_i$ là giá trị confidence dự đoán, $\\hat{C_i}$ chính là giá trị IOU giữa boundary box dự đoán và ground truth\n",
        "  - Trọng số $\\lambda_{noobj}$ dùng để giảm bớt giá trị lỗi tại những ô lưới không chứa object.\n",
        "    \n",
        "    Khi cài đặt, ta sẽ sử dụng kĩ thuật masking để tính giá trị loss này.\n",
        "\n",
        "- **Localization loss:** Ta cần tính lỗi cho các dự đoán về tọa độ tâm và width, height của các boundary box. Tất nhiên rằng giá trị này chỉ tính tại những ô lưới có chứa object. Tại mỗi ô lưới, ta chọn ra boundary box có IOU lớn nhất, rồi tính lỗi đối với boundary box đó.\n",
        "$$L_{localization} = \\lambda_{coord} \\sum_{i=0}^{S^2} \\sum_{j=0}^{B} \\mathbb{I}_{ij}^{obj} \\left [ (x_i - \\hat{x_i})^2 + (y_i - \\hat{y_i})^2  + (w_i - \\hat{w_i})^2 + (h_i - \\hat{h_i})^2 \\right ] $$\n",
        "Lưu ý rằng, tọa độ các tâm của ta đều cần được chuẩn hóa về giá trị ***độ dời *** so với ô lưới chứa nó\n",
        "\n",
        "- **Classification loss:** Giá trị này sẽ chỉ được tính tại những ô lưới có label là \"có chứa object\". Trong paper gốc của Yolov1, hàm lỗi được sử dụng cho giá trị này cũng là Sum Square Error\n",
        "$$L_{classification} = \\sum_{i=0}^{S^2} \\mathbb{I}_{i}^{obj} \\sum_{c \\in classes} (p_i(c) - \\hat{p_i(c)})^2  $$\n"
      ]
    },
    {
      "cell_type": "markdown",
      "metadata": {
        "id": "8WBXwAmYCjYv"
      },
      "source": [
        "Từ đó, hàm lỗi của ta sẽ là\n",
        "$$ L = L_{confidence} + L_{localization} + L_{classification}$$"
      ]
    },
    {
      "cell_type": "code",
      "execution_count": 24,
      "metadata": {
        "id": "_NHdy_uUCcfg"
      },
      "outputs": [],
      "source": [
        "# Hai hằng số lambda\n",
        "N_COORD = 10\n",
        "N_NOOBJ = 0.1"
      ]
    },
    {
      "cell_type": "code",
      "execution_count": 25,
      "metadata": {},
      "outputs": [],
      "source": [
        "# Tạo các tensor board_x, board_y để dùng cho việc chuyển đổi giữa độ dời\n",
        "# tương đối và tọa độ thật của các tâm\n",
        "# Ví dụ:\n",
        "# board_x = 0 1 2 3\n",
        "#           0 1 2 3\n",
        "#           0 1 2 3\n",
        "#           0 1 2 3\n",
        "# board_y = 0 0 0 0\n",
        "#           1 1 1 1\n",
        "#           2 2 2 2\n",
        "#           3 3 3 3\n",
        "board_x = np.transpose(\n",
        "    np.reshape(\n",
        "        np.array([np.arange(CELL_SIZE)] * CELL_SIZE * BOX_PER_CELL),\n",
        "        (BOX_PER_CELL, CELL_SIZE, CELL_SIZE)\n",
        "    ),\n",
        "    (1, 2, 0))    # 7 * 7 * 2\n",
        "board_x = board_x[None, :]    # 1 * 7 * 7 * 2\n",
        "board_x = tf.constant(board_x, dtype=tf.float32)\n",
        "board_y = tf.transpose(board_x, (0, 2, 1, 3))   # 1 * 7 * 7 * 2"
      ]
    },
    {
      "cell_type": "code",
      "execution_count": 32,
      "metadata": {
        "id": "4ShLiQ15fbW6"
      },
      "outputs": [],
      "source": [
        "def yolo_loss(labels, predicts, evaluate=False):\n",
        "    \"\"\"\n",
        "    Args:\n",
        "      predicts: [BATCH_SIZE, 7, 7, 13] \n",
        "      labels: [BATCH_SIZE, 7, 7, 8]\n",
        "    Return:\n",
        "      loss: scalar\n",
        "    \"\"\"\n",
        "    # 2 phần tử đầu của vector dự đoán tại một ô lưới là confidence score\n",
        "    predict_object = predicts[..., :BOX_PER_CELL]   # _ * 7 * 7 * 2\n",
        "    \n",
        "    # 8 phần tử tiếp theo là dự đoán tọa độ tâm (độ dời) của boundary box và width height\n",
        "    predict_box_offset = tf.reshape(\n",
        "                                    predicts[...,BOX_PER_CELL:5*BOX_PER_CELL],\n",
        "                                    (-1, CELL_SIZE, CELL_SIZE, BOX_PER_CELL, 4))\n",
        "    #   --> _ * 7 * 7 * 2 * 4\n",
        "\n",
        "    # Các phần tử cuối là dự đoán lớp của object\n",
        "    predict_class = predicts[...,5*BOX_PER_CELL:]   # _ * 7 * 7 * 3\n",
        "    \n",
        "    # Chuyển các giá trị độ dời của tâm về toạ độ normalize trên khoảng [0-1],\n",
        "    # đồng thời tính luôn giá trị w^2 và h^2\n",
        "    predict_normalized_box = tf.stack(\n",
        "        [\n",
        "          (predict_box_offset[..., 0] + board_x) / CELL_SIZE,\n",
        "          (predict_box_offset[..., 1] + board_y) / CELL_SIZE,\n",
        "          tf.square(predict_box_offset[..., 2]),\n",
        "          tf.square(predict_box_offset[..., 3])\n",
        "        ],\n",
        "        axis=-1)    # _ * 7 * 7 * 2 * 4\n",
        "\n",
        "    if evaluate:\n",
        "        return predict_object, predict_class, predict_normalized_box\n",
        "\n",
        "    # Các label tương ứng \n",
        "    true_object = labels[..., :1]   # _ * 7 * 7 * 1\n",
        "    true_box = tf.reshape(labels[..., 1:5], (-1, CELL_SIZE, CELL_SIZE, 1, 4))  # _ * 7 * 7 * 1 * 4 \n",
        "    \n",
        "    # Normalize tọa độ pixel về đoạn [0-1] (chia cho IMG_SIZE), đồng thời\n",
        "    # duplicate lưới 7 x 7\n",
        "    true_normalized_box = tf.tile(true_box, (1, 1, 1, BOX_PER_CELL, 1)) / IMG_SIZE\n",
        "    #   ---> _ * 7 * 7 * 2 * 4\n",
        "    \n",
        "    true_class = labels[..., 5:]    # _ * 7 * 7 * 3\n",
        "    \n",
        "    # Tính giá trị độ dời của tâm từ label\n",
        "    true_box_offset =  tf.stack(\n",
        "        [\n",
        "          true_normalized_box[..., 0] * CELL_SIZE - board_x,\n",
        "          true_normalized_box[..., 1] * CELL_SIZE - board_y,\n",
        "          tf.sqrt(true_normalized_box[..., 2]),\n",
        "          tf.sqrt(true_normalized_box[..., 3])\n",
        "        ],\n",
        "        axis=-1)    # _ * 7 * 7 * 2 * 4\n",
        "\n",
        "    # Tính IOU\n",
        "    predict_iou = compute_iou(true_normalized_box, predict_normalized_box)   # _ * 7 * 7 * 2\n",
        "    \n",
        "    # Tại mỗi ô lưới, tìm giá trị IOU lớn nhất của 2 bounding box trong ô đó\n",
        "    predict_iou_max = tf.reduce_max(predict_iou, 3, keepdims=True)  # _ * 7 * 7 * 1\n",
        "\n",
        "    # Tính IOU metric để monitor trong lúc train\n",
        "    # iou_metric = tf.reduce_mean(\n",
        "    #                             tf.reduce_sum(predict_iou_max, axis=[1,2,3])\n",
        "    #                             /\n",
        "    #                             tf.reduce_sum(true_object, axis=[1,2,3])\n",
        "    #                            )\n",
        "\n",
        "    # obj_mask có shape _ * 7 * 7 * 2, tensor 7 * 7 sẽ bằng 1 tại các ô lưới có\n",
        "    # boundary box được dự đoán là có chứa object và nhãn của ô lưới đó cũng là có chứa object\n",
        "    obj_mask = tf.cast((predict_iou >= predict_iou_max), tf.float32) * true_object\n",
        "\n",
        "    # Ngược lại với obj_mask:\n",
        "    noobj_mask = tf.ones_like(obj_mask) - obj_mask\n",
        "\n",
        "    # Confidence loss:\n",
        "    # + Phần có chứa obj\n",
        "    # obj_delta = obj_mask * (1 - predict_object)\n",
        "    obj_delta = obj_mask * (predict_object - predict_iou)\n",
        "    obj_loss = tf.reduce_mean(tf.reduce_sum(tf.square(obj_delta), axis=[1,2,3]), name='object_loss')\n",
        "    # + Phần không chứa obj\n",
        "    noobj_delta = noobj_mask * predict_object\n",
        "    noobj_loss = tf.reduce_mean(tf.reduce_sum(tf.square(noobj_delta), axis=[1,2,3]), name='noobject_loss')\n",
        "    # Tổng:\n",
        "    conf_loss = obj_loss + N_NOOBJ * noobj_loss\n",
        "\n",
        "    # Classification loss: chỉ tính tại những ô lưới có label là \"chứa object\"\n",
        "    class_delta = true_object * (predict_class - true_class)\n",
        "    class_loss = tf.reduce_mean(\n",
        "                                tf.reduce_sum(tf.square(class_delta), axis=[1,2,3]),\n",
        "                                name='class_loss')\n",
        "\n",
        "    ## Localization loss\n",
        "    box_mask = tf.expand_dims(obj_mask, 4)    # _ * 7 * 7 * 2 * 1\n",
        "    box_delta = box_mask * (predict_box_offset - true_box_offset)   # _ * 7 * 7 * 2 * 4\n",
        "    local_loss = tf.reduce_mean(tf.reduce_sum(tf.square(box_delta), axis=[1,2,3]), name='local_loss')\n",
        "    local_loss *= N_COORD\n",
        "\n",
        "    # Giá trị loss của mô hình:\n",
        "    loss = conf_loss + class_loss + local_loss\n",
        "    \n",
        "    # return loss, iou_metric, predict_object, predict_class, predict_normalized_box\n",
        "    return loss"
      ]
    },
    {
      "cell_type": "markdown",
      "metadata": {
        "id": "r95YZd-hZqmW"
      },
      "source": [
        "## Huấn luyện\n",
        "\n",
        "Trong quá trình huấn luyện, metrics của mô hình sẽ là IOU"
      ]
    },
    {
      "cell_type": "markdown",
      "metadata": {
        "id": "6qPME-joalz9"
      },
      "source": [
        "Tạo mô hình từ lớp ModelCNN:"
      ]
    },
    {
      "cell_type": "code",
      "execution_count": 30,
      "metadata": {
        "id": "e-KLu1Bgafsm"
      },
      "outputs": [],
      "source": [
        "model = ModelCNN(IMG_SIZE)"
      ]
    },
    {
      "cell_type": "markdown",
      "metadata": {},
      "source": [
        "Biên dịch và train bằng các hàm có sẵn:"
      ]
    },
    {
      "cell_type": "code",
      "execution_count": 33,
      "metadata": {},
      "outputs": [],
      "source": [
        "model.compile(loss=yolo_loss, optimizer=tf.keras.optimizers.Adam(learning_rate=1e-3))"
      ]
    },
    {
      "cell_type": "code",
      "execution_count": 34,
      "metadata": {},
      "outputs": [
        {
          "name": "stdout",
          "output_type": "stream",
          "text": [
            "Epoch 1/20\n",
            "625/625 [==============================] - 57s 85ms/step - loss: 6.0985 - val_loss: 0.2925\n",
            "Epoch 2/20\n",
            "625/625 [==============================] - 53s 86ms/step - loss: 0.2141 - val_loss: 0.1628\n",
            "Epoch 3/20\n",
            "625/625 [==============================] - 61s 97ms/step - loss: 0.1375 - val_loss: 0.1521\n",
            "Epoch 4/20\n",
            "625/625 [==============================] - 57s 92ms/step - loss: 0.1156 - val_loss: 0.1247\n",
            "Epoch 5/20\n",
            "625/625 [==============================] - 61s 97ms/step - loss: 0.0938 - val_loss: 0.1188\n",
            "Epoch 6/20\n",
            "625/625 [==============================] - 71s 114ms/step - loss: 0.0878 - val_loss: 0.1105\n",
            "Epoch 7/20\n",
            "625/625 [==============================] - 83s 133ms/step - loss: 0.0780 - val_loss: 0.1003\n",
            "Epoch 8/20\n",
            "625/625 [==============================] - 91s 145ms/step - loss: 0.0807 - val_loss: 0.1760\n",
            "Epoch 9/20\n",
            "625/625 [==============================] - 102s 164ms/step - loss: 0.1044 - val_loss: 0.1006\n",
            "Epoch 10/20\n",
            "625/625 [==============================] - 121s 193ms/step - loss: 0.0627 - val_loss: 0.0979\n",
            "Epoch 11/20\n",
            "625/625 [==============================] - 96s 153ms/step - loss: 0.0575 - val_loss: 0.0895\n",
            "Epoch 12/20\n",
            "625/625 [==============================] - 98s 157ms/step - loss: 0.0529 - val_loss: 0.0879\n",
            "Epoch 13/20\n",
            "625/625 [==============================] - 105s 168ms/step - loss: 0.0517 - val_loss: 0.0880\n",
            "Epoch 14/20\n",
            "625/625 [==============================] - 118s 189ms/step - loss: 0.0475 - val_loss: 0.1047\n",
            "Epoch 15/20\n",
            "625/625 [==============================] - 206s 329ms/step - loss: 0.0568 - val_loss: 0.1354\n",
            "Epoch 16/20\n",
            "625/625 [==============================] - 232s 371ms/step - loss: 0.0661 - val_loss: 0.0938\n",
            "Epoch 17/20\n",
            "625/625 [==============================] - 259s 414ms/step - loss: 0.0422 - val_loss: 0.0948\n",
            "Epoch 18/20\n",
            "625/625 [==============================] - 245s 392ms/step - loss: 0.0422 - val_loss: 0.0976\n",
            "Epoch 19/20\n",
            "625/625 [==============================] - 306s 490ms/step - loss: 0.0583 - val_loss: 0.1143\n",
            "Epoch 20/20\n",
            "625/625 [==============================] - 393s 630ms/step - loss: 0.0592 - val_loss: 0.1071\n"
          ]
        },
        {
          "data": {
            "text/plain": [
              "<tensorflow.python.keras.callbacks.History at 0x155017bc400>"
            ]
          },
          "execution_count": 34,
          "metadata": {},
          "output_type": "execute_result"
        }
      ],
      "source": [
        "model.fit(train_gen, epochs=20, validation_data=val_gen)"
      ]
    },
    {
      "cell_type": "markdown",
      "metadata": {},
      "source": [
        "### Tự code hàm train (toang)"
      ]
    },
    {
      "cell_type": "markdown",
      "metadata": {
        "id": "qGDguJNGaoPF"
      },
      "source": [
        "Thiết lập thuật toán tối ưu:"
      ]
    },
    {
      "cell_type": "code",
      "execution_count": 22,
      "metadata": {
        "id": "DetRFib2asct"
      },
      "outputs": [],
      "source": [
        "optimizer = tf.keras.optimizers.Adam(learning_rate=1e-3)\n",
        "\n",
        "train_loss = tf.keras.metrics.Mean()\n",
        "train_metric = tf.keras.metrics.Mean()\n",
        "test_loss = tf.keras.metrics.Mean()\n",
        "test_metric = tf.keras.metrics.Mean()"
      ]
    },
    {
      "cell_type": "markdown",
      "metadata": {
        "id": "teSAT5_ZbZA9"
      },
      "source": [
        "Cài đặt hàm train và test với tf.GradientTape:"
      ]
    },
    {
      "cell_type": "code",
      "execution_count": 23,
      "metadata": {
        "id": "r4_IFfLnZ6fu"
      },
      "outputs": [],
      "source": [
        "@tf.function\n",
        "def train_step(images, labels):\n",
        "  with tf.GradientTape() as tape:\n",
        "    predictions = model(images, training=True)\n",
        "    # loss, metric, *_ = yolo_loss(predictions, labels)\n",
        "    loss = yolo_loss(predictions, labels)\n",
        "  gradients = tape.gradient(loss, model.trainable_variables)\n",
        "  optimizer.apply_gradients(zip(gradients, model.trainable_variables))\n",
        "  train_loss.update_state(loss)\n",
        "#   train_metric.update_state(metric)\n",
        "\n",
        "@tf.function\n",
        "def test_step(images, labels):\n",
        "  predictions = model(images, training=False)\n",
        "#   t_loss, t_metric, *_ = yolo_loss(predictions, labels)\n",
        "  t_loss = yolo_loss(predictions, labels)\n",
        "  test_loss.update_state(t_loss)\n",
        "#   test_metric.update_state(t_metric)"
      ]
    },
    {
      "cell_type": "markdown",
      "metadata": {
        "id": "G1BoODq5d2hG"
      },
      "source": [
        "Huấn luyện:"
      ]
    },
    {
      "cell_type": "code",
      "execution_count": 24,
      "metadata": {
        "colab": {
          "base_uri": "https://localhost:8080/"
        },
        "id": "kPgorO_id0rf",
        "outputId": "629690a1-7c1e-4aa7-95d4-8d4908213d56"
      },
      "outputs": [
        {
          "name": "stdout",
          "output_type": "stream",
          "text": [
            "Epoch 1, Train Loss: 258420.359375, Val Loss: 1217.0992431640625, \n",
            "Time taken: 46.58s\n"
          ]
        },
        {
          "ename": "KeyboardInterrupt",
          "evalue": "",
          "output_type": "error",
          "traceback": [
            "\u001b[1;31m---------------------------------------------------------------------------\u001b[0m",
            "\u001b[1;31mKeyboardInterrupt\u001b[0m                         Traceback (most recent call last)",
            "\u001b[1;32m<ipython-input-24-3d08f0e0750a>\u001b[0m in \u001b[0;36m<module>\u001b[1;34m\u001b[0m\n\u001b[0;32m     11\u001b[0m \u001b[1;33m\u001b[0m\u001b[0m\n\u001b[0;32m     12\u001b[0m   \u001b[1;32mfor\u001b[0m \u001b[0mbatch\u001b[0m \u001b[1;32min\u001b[0m \u001b[0mrange\u001b[0m\u001b[1;33m(\u001b[0m\u001b[0mlen\u001b[0m\u001b[1;33m(\u001b[0m\u001b[0mX_train\u001b[0m\u001b[1;33m)\u001b[0m \u001b[1;33m//\u001b[0m \u001b[0mBATCH_SIZE\u001b[0m\u001b[1;33m)\u001b[0m\u001b[1;33m:\u001b[0m\u001b[1;33m\u001b[0m\u001b[1;33m\u001b[0m\u001b[0m\n\u001b[1;32m---> 13\u001b[1;33m     \u001b[0mX_batch\u001b[0m \u001b[1;33m=\u001b[0m \u001b[0mX_train\u001b[0m\u001b[1;33m[\u001b[0m\u001b[0mbatch\u001b[0m\u001b[1;33m*\u001b[0m\u001b[0mBATCH_SIZE\u001b[0m\u001b[1;33m:\u001b[0m\u001b[1;33m(\u001b[0m\u001b[0mbatch\u001b[0m\u001b[1;33m+\u001b[0m\u001b[1;36m1\u001b[0m\u001b[1;33m)\u001b[0m\u001b[1;33m*\u001b[0m\u001b[0mBATCH_SIZE\u001b[0m\u001b[1;33m]\u001b[0m\u001b[1;33m.\u001b[0m\u001b[0mastype\u001b[0m\u001b[1;33m(\u001b[0m\u001b[1;34m'float32'\u001b[0m\u001b[1;33m)\u001b[0m\u001b[1;33m\u001b[0m\u001b[1;33m\u001b[0m\u001b[0m\n\u001b[0m\u001b[0;32m     14\u001b[0m     \u001b[0my_batch\u001b[0m \u001b[1;33m=\u001b[0m \u001b[0my_train\u001b[0m\u001b[1;33m[\u001b[0m\u001b[0mbatch\u001b[0m\u001b[1;33m*\u001b[0m\u001b[0mBATCH_SIZE\u001b[0m\u001b[1;33m:\u001b[0m\u001b[1;33m(\u001b[0m\u001b[0mbatch\u001b[0m\u001b[1;33m+\u001b[0m\u001b[1;36m1\u001b[0m\u001b[1;33m)\u001b[0m\u001b[1;33m*\u001b[0m\u001b[0mBATCH_SIZE\u001b[0m\u001b[1;33m]\u001b[0m\u001b[1;33m.\u001b[0m\u001b[0mastype\u001b[0m\u001b[1;33m(\u001b[0m\u001b[1;34m'float32'\u001b[0m\u001b[1;33m)\u001b[0m\u001b[1;33m\u001b[0m\u001b[1;33m\u001b[0m\u001b[0m\n\u001b[0;32m     15\u001b[0m     \u001b[0mtrain_step\u001b[0m\u001b[1;33m(\u001b[0m\u001b[0mX_batch\u001b[0m\u001b[1;33m,\u001b[0m \u001b[0my_batch\u001b[0m\u001b[1;33m)\u001b[0m\u001b[1;33m\u001b[0m\u001b[1;33m\u001b[0m\u001b[0m\n",
            "\u001b[1;31mKeyboardInterrupt\u001b[0m: "
          ]
        }
      ],
      "source": [
        "EPOCHS = 10\n",
        "BATCH_SIZE = 64\n",
        "\n",
        "for epoch in range(EPOCHS):\n",
        "  start_time = time.time()\n",
        "\n",
        "  train_loss.reset_states()\n",
        "#   train_metric.reset_states()\n",
        "  test_loss.reset_states()\n",
        "#   test_metric.reset_states()\n",
        "\n",
        "  for batch in range(len(X_train) // BATCH_SIZE):\n",
        "    X_batch = X_train[batch*BATCH_SIZE:(batch+1)*BATCH_SIZE].astype('float32')\n",
        "    y_batch = y_train[batch*BATCH_SIZE:(batch+1)*BATCH_SIZE].astype('float32')\n",
        "    train_step(X_batch, y_batch)\n",
        "\n",
        "  for batch in range(len(X_val) // BATCH_SIZE):\n",
        "    X_batch = X_val[batch*BATCH_SIZE:(batch+1)*BATCH_SIZE].astype('float32')\n",
        "    y_batch = y_val[batch*BATCH_SIZE:(batch+1)*BATCH_SIZE].astype('float32')\n",
        "    test_step(X_batch, y_batch)\n",
        "    \n",
        "  print(\n",
        "    f'Epoch {epoch + 1}, '\n",
        "    f'Train Loss: {train_loss.result()}, '\n",
        "    # f'Train IOU: {train_metric.result()}, '\n",
        "    f'Val Loss: {test_loss.result()}, '\n",
        "    # f'Val IOU: {test_metric.result()}'\n",
        "  )\n",
        "\n",
        "  print(\"Time taken: %.2fs\" % (time.time() - start_time))"
      ]
    },
    {
      "cell_type": "markdown",
      "metadata": {
        "id": "jpKzb2Cobjv_"
      },
      "source": [
        "## Dự đoán"
      ]
    },
    {
      "cell_type": "markdown",
      "metadata": {},
      "source": [
        "Hàm tính IOU giữa 2 box:"
      ]
    },
    {
      "cell_type": "code",
      "execution_count": 35,
      "metadata": {
        "id": "nWWJ2KOn0jWs"
      },
      "outputs": [],
      "source": [
        "def compute_iou_2_boxes(box1, box2):\n",
        "    \"\"\"\n",
        "    Args:\n",
        "      box1: [center_x, center_y, w, h] \n",
        "      box2: [center_x, center_y, w, h] \n",
        "    Return:\n",
        "      iou: iou\n",
        "    \"\"\"\n",
        "    x1 = max(box1[0] - 0.5 * box1[2], box2[0] - 0.5 * box2[2])\n",
        "    y1 = max(box1[1] - 0.5 * box1[3], box2[1] - 0.5 * box2[3])\n",
        "    x2 = min(box1[0] + 0.5 * box1[2], box2[0] + 0.5 * box2[2])\n",
        "    y2 = min(box1[1] + 0.5 * box1[3], box2[1] + 0.5 * box2[3])\n",
        "    w = x2 - x1\n",
        "    h = y2 - y1\n",
        "    intersect = 0 if w < 0 or w < 0 else w * h\n",
        "    union = box1[2] * box1[3] + box2[2] * box2[3] - intersect\n",
        "    return intersect / union\n"
      ]
    },
    {
      "cell_type": "markdown",
      "metadata": {
        "id": "GYbYn7M00KYE"
      },
      "source": [
        "Từ ảnh đầu vào, ta cần có những giá trị `predict_object`, `predict_class`, `predict_normalized_box`"
      ]
    },
    {
      "cell_type": "code",
      "execution_count": 36,
      "metadata": {
        "id": "Ruf5EWHJbi9C"
      },
      "outputs": [],
      "source": [
        "def predict(img):\n",
        "  img_batch = np.expand_dims(img, 0)\n",
        "  predicts = model(img_batch, training=False)\n",
        "  \n",
        "  # 2 phần tử đầu của vector dự đoán tại một ô lưới là confidence score\n",
        "  predict_object = predicts[..., :BOX_PER_CELL]   # _ * 7 * 7 * 2\n",
        "  \n",
        "  # 8 phần tử tiếp theo là dự đoán tọa độ tâm (độ dời) của boundary box và width height\n",
        "  predict_box_offset = tf.reshape(\n",
        "                                  predicts[..., BOX_PER_CELL:5*BOX_PER_CELL],\n",
        "                                  (-1, CELL_SIZE, CELL_SIZE, BOX_PER_CELL, 4))\n",
        "  #   --> _ * 7 * 7 * 2 * 4\n",
        "\n",
        "  # Các phần tử cuối là dự đoán lớp của object\n",
        "  predict_class = predicts[..., 5*BOX_PER_CELL:]   # _ * 7 * 7 * 3\n",
        "  \n",
        "  # Chuyển các giá trị độ dời của tâm về toạ độ normalize trên khoảng [0-1],\n",
        "  # đồng thời tính giá trị w và h (vì trong lúc dự đoán thì ta đoán căn bậc 2 của chúng)\n",
        "  predict_normalized_box = tf.stack(\n",
        "      [\n",
        "        (predict_box_offset[..., 0] + board_x) / CELL_SIZE,\n",
        "        (predict_box_offset[..., 1] + board_y) / CELL_SIZE,\n",
        "        tf.square(predict_box_offset[..., 2]),\n",
        "        tf.square(predict_box_offset[..., 3])\n",
        "      ],\n",
        "      axis=-1)    # _ * 7 * 7 * 2 * 4\n",
        "\n",
        "  return predict_object.numpy(), predict_class.numpy(), predict_normalized_box.numpy()"
      ]
    },
    {
      "cell_type": "markdown",
      "metadata": {
        "id": "tfPrjh-O0dq9"
      },
      "source": [
        "Để chuẩn bị cho việc suy ra kết quả, ta cần chú ý những điều sau:\n",
        "- Xác suất để một boundary box chứa 1 class nào đó:\n",
        "$$ P(class) = P(obj)  P(class|obj) $$\n",
        "- Ta sẽ giữ lại những boundary box có xác suất chứa 1 class nào đó lớn hơn 1 ngưỡng nhất định (giả sử là 0.2)\n",
        "- Tại các boundary box, tìm ra class có xác suất cao nhất\n",
        "- Trong 2 boundary box của 1 ô lưới, tìm ra boundary box có xác suất dự đoán class trên cao hơn để giữ lại và bỏ đi boundary box kia"
      ]
    },
    {
      "cell_type": "code",
      "execution_count": 37,
      "metadata": {
        "id": "cqsCycaQ7j4V"
      },
      "outputs": [],
      "source": [
        "def interpret_output(predict_object, predict_class, predict_normalized_box):\n",
        "    # Nhân với IMG_SIZE để ra giá trị gốc (vì đây là đã chuẩn hóa về [0,1])\n",
        "    predict_box = predict_normalized_box * IMG_SIZE   # 7 * 7 * 2 * 4\n",
        "    predict_object = np.expand_dims(predict_object, axis=-1)  # 7 * 7 * 2 * 1\n",
        "    predict_class = np.expand_dims(predict_class, axis=-2)  # 7 * 7 * 1 * 3\n",
        "    \n",
        "    # Xác suất mỗi boundary box chứa class\n",
        "    class_probs = predict_object * predict_class  # 7 * 7 * 2 * 3\n",
        "    \n",
        "    # Giữ các boundary box mà có xác suất chứa 1 class nào đó >= 0.3\n",
        "    filter_mat_probs = np.array(class_probs >= 0.3, dtype='bool') # 7 * 7 * 2 * 3\n",
        "    filter_mat_boxes = np.nonzero(filter_mat_probs)\n",
        "    class_probs_filtered = class_probs[filter_mat_probs]\n",
        "    boxes_filtered = predict_box[filter_mat_boxes[0], filter_mat_boxes[1], filter_mat_boxes[2]]\n",
        "    \n",
        "    # Chọn index của lớp có xác xuất lớn nhất tại mỗi boundary box\n",
        "    classes_num_filtered = np.argmax(class_probs, axis=3)[filter_mat_boxes[0], filter_mat_boxes[1], filter_mat_boxes[2]]\n",
        "    \n",
        "    # Sắp xếp theo thứ tự giảm dần xác suất dự đoán class\n",
        "    argsort = np.array(np.argsort(class_probs_filtered))[::-1]\n",
        "    boxes_filtered = boxes_filtered[argsort]\n",
        "    class_probs_filtered = class_probs_filtered[argsort]\n",
        "    classes_num_filtered = classes_num_filtered[argsort]\n",
        "\n",
        "    # Giữ lại boundary box có xác xuất dự đoán lớn nhất\n",
        "    # --> Thuật toán non-maximun suppression\n",
        "    for i in range(len(boxes_filtered)):\n",
        "        if class_probs_filtered[i] == 0:\n",
        "            continue\n",
        "        # Tìm những box có xác suất nhỏ hơn box thứ i\n",
        "        for j in range(i + 1, len(boxes_filtered)):\n",
        "            # Nếu IOU giữa box i và box j > 0.4 thì loại box j\n",
        "            if compute_iou_2_boxes(boxes_filtered[i], boxes_filtered[j]) > 0.4:\n",
        "                class_probs_filtered[j] = 0.0   # Đánh dấu là loại box j\n",
        "                \n",
        "    # Bỏ những boundary vừa bị loại bởi thuật toán trên ra khỏi array\n",
        "    filter_iou = np.array(class_probs_filtered > 0.0, dtype='bool')\n",
        "    boxes_filtered = boxes_filtered[filter_iou]\n",
        "    class_probs_filtered = class_probs_filtered[filter_iou]\n",
        "    classes_num_filtered = classes_num_filtered[filter_iou]\n",
        "    \n",
        "    result = []\n",
        "    for i in range(len(boxes_filtered)):\n",
        "        result.append(\n",
        "            [classes_num_filtered[i],\n",
        "             boxes_filtered[i][0],\n",
        "             boxes_filtered[i][1],\n",
        "             boxes_filtered[i][2],\n",
        "             boxes_filtered[i][3],\n",
        "             class_probs_filtered[i]])\n",
        "\n",
        "    return result\n"
      ]
    },
    {
      "cell_type": "code",
      "execution_count": 38,
      "metadata": {
        "id": "-KIUuevt7kqT"
      },
      "outputs": [],
      "source": [
        "def draw_result(img, result):\n",
        "    \"\"\"\n",
        "    Args:\n",
        "      img: ảnh      \n",
        "      result: giá trị sinh ra ở hàm trên    \n",
        "    \"\"\"\n",
        "    plt.figure(figsize=(10,10), dpi=40)\n",
        "    img = np.pad(img, [(50,50), (50,50), (0,0)], mode='constant', constant_values=255)\n",
        "    for i in range(len(result)):\n",
        "        x = int(result[i][1]) + 50\n",
        "        y = int(result[i][2]) + 50\n",
        "        w = int(result[i][3] / 2)\n",
        "        h = int(result[i][4] / 2)\n",
        "\n",
        "        cv2.rectangle(img, (x - w, y - h), (x + w, y + h), (255, 0, 0), 2)\n",
        "        cv2.rectangle(img, (x - w, y - h - 20),\n",
        "                      (x -w + 50, y - h), (0, 255, 0), -1)\n",
        "        cv2.putText(\n",
        "            img, '{} : {:.2f}'.format(result[i][0] ,result[i][5]),\n",
        "            (x - w + 5, y - h - 7), cv2.FONT_HERSHEY_SIMPLEX, 0.3,\n",
        "            (0, 0, 0), 1, cv2.LINE_AA)\n",
        "\n",
        "    plt.imshow(img)\n",
        "    plt.xticks([])\n",
        "    plt.yticks([])\n",
        "    plt.show()"
      ]
    },
    {
      "cell_type": "code",
      "execution_count": 39,
      "metadata": {
        "id": "1qEmV9Qx74_u"
      },
      "outputs": [],
      "source": [
        "def final_predict(img_path):\n",
        "    img = cv2.imread(img_path)\n",
        "    img = cv2.cvtColor(img, cv2.COLOR_BGR2RGB)\n",
        "    img = img / 255.0\n",
        "    predict_object, predict_class, predict_normalized_box = predict(img.astype('float32'))\n",
        "    result = interpret_output(predict_object[0], predict_class[0], predict_normalized_box[0])\n",
        "    draw_result(img, result)\n"
      ]
    },
    {
      "cell_type": "code",
      "execution_count": 40,
      "metadata": {
        "colab": {
          "base_uri": "https://localhost:8080/",
          "height": 328
        },
        "id": "NmODbmjPCnGj",
        "outputId": "f7ef4dae-1283-4f34-be53-c5e78c6221de"
      },
      "outputs": [
        {
          "name": "stderr",
          "output_type": "stream",
          "text": [
            "Clipping input data to the valid range for imshow with RGB data ([0..1] for floats or [0..255] for integers).\n"
          ]
        },
        {
          "data": {
            "image/png": "[encoded data removed]",
            "text/plain": [
              "<Figure size 400x400 with 1 Axes>"
            ]
          },
          "metadata": {},
          "output_type": "display_data"
        },
        {
          "name": "stderr",
          "output_type": "stream",
          "text": [
            "Clipping input data to the valid range for imshow with RGB data ([0..1] for floats or [0..255] for integers).\n"
          ]
        },
        {
          "data": {
            "image/png": "[encoded data removed]",
            "text/plain": [
              "<Figure size 400x400 with 1 Axes>"
            ]
          },
          "metadata": {},
          "output_type": "display_data"
        },
        {
          "name": "stderr",
          "output_type": "stream",
          "text": [
            "Clipping input data to the valid range for imshow with RGB data ([0..1] for floats or [0..255] for integers).\n"
          ]
        },
        {
          "data": {
            "image/png": "[encoded data removed]",
            "text/plain": [
              "<Figure size 400x400 with 1 Axes>"
            ]
          },
          "metadata": {},
          "output_type": "display_data"
        },
        {
          "name": "stderr",
          "output_type": "stream",
          "text": [
            "Clipping input data to the valid range for imshow with RGB data ([0..1] for floats or [0..255] for integers).\n"
          ]
        },
        {
          "data": {
            "image/png": "[encoded data removed]",
            "text/plain": [
              "<Figure size 400x400 with 1 Axes>"
            ]
          },
          "metadata": {},
          "output_type": "display_data"
        },
        {
          "name": "stderr",
          "output_type": "stream",
          "text": [
            "Clipping input data to the valid range for imshow with RGB data ([0..1] for floats or [0..255] for integers).\n"
          ]
        },
        {
          "data": {
            "image/png": "[encoded data removed]",
            "text/plain": [
              "<Figure size 400x400 with 1 Axes>"
            ]
          },
          "metadata": {},
          "output_type": "display_data"
        },
        {
          "name": "stderr",
          "output_type": "stream",
          "text": [
            "Clipping input data to the valid range for imshow with RGB data ([0..1] for floats or [0..255] for integers).\n"
          ]
        },
        {
          "data": {
            "image/png": "[encoded data removed]",
            "text/plain": [
              "<Figure size 400x400 with 1 Axes>"
            ]
          },
          "metadata": {},
          "output_type": "display_data"
        },
        {
          "name": "stderr",
          "output_type": "stream",
          "text": [
            "Clipping input data to the valid range for imshow with RGB data ([0..1] for floats or [0..255] for integers).\n"
          ]
        },
        {
          "data": {
            "image/png": "[encoded data removed]",
            "text/plain": [
              "<Figure size 400x400 with 1 Axes>"
            ]
          },
          "metadata": {},
          "output_type": "display_data"
        },
        {
          "name": "stderr",
          "output_type": "stream",
          "text": [
            "Clipping input data to the valid range for imshow with RGB data ([0..1] for floats or [0..255] for integers).\n"
          ]
        },
        {
          "data": {
            "image/png": "[encoded data removed]",
            "text/plain": [
              "<Figure size 400x400 with 1 Axes>"
            ]
          },
          "metadata": {},
          "output_type": "display_data"
        },
        {
          "name": "stderr",
          "output_type": "stream",
          "text": [
            "Clipping input data to the valid range for imshow with RGB data ([0..1] for floats or [0..255] for integers).\n"
          ]
        },
        {
          "data": {
            "image/png": "[encoded data removed]",
            "text/plain": [
              "<Figure size 400x400 with 1 Axes>"
            ]
          },
          "metadata": {},
          "output_type": "display_data"
        },
        {
          "name": "stderr",
          "output_type": "stream",
          "text": [
            "Clipping input data to the valid range for imshow with RGB data ([0..1] for floats or [0..255] for integers).\n"
          ]
        },
        {
          "data": {
            "image/png": "[encoded data removed]",
            "text/plain": [
              "<Figure size 400x400 with 1 Axes>"
            ]
          },
          "metadata": {},
          "output_type": "display_data"
        }
      ],
      "source": [
        "for i in range(10):\n",
        "    img = img_test[i]\n",
        "    final_predict(img)"
      ]
    }
  ],
  "metadata": {
    "accelerator": "TPU",
    "colab": {
      "collapsed_sections": [
        "kV_ltyefeIHd"
      ],
      "name": "Yolov1.ipynb",
      "provenance": []
    },
    "kernelspec": {
      "display_name": "Python 3",
      "name": "python3"
    },
    "language_info": {
      "codemirror_mode": {
        "name": "ipython",
        "version": 3
      },
      "file_extension": ".py",
      "mimetype": "text/x-python",
      "name": "python",
      "nbconvert_exporter": "python",
      "pygments_lexer": "ipython3",
      "version": "3.8.11"
    }
  },
  "nbformat": 4,
  "nbformat_minor": 0
}
